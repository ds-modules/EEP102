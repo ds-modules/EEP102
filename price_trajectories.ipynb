{
 "cells": [
  {
   "cell_type": "code",
   "execution_count": 94,
   "metadata": {},
   "outputs": [],
   "source": [
    "import collections\n",
    "from pylab import *\n",
    "import matplotlib\n",
    "import matplotlib.pyplot as plt\n",
    "import numpy as np\n",
    "\n",
    "from numpy import *\n",
    "import math\n",
    "import matplotlib.pyplot as plt"
   ]
  },
  {
   "cell_type": "markdown",
   "metadata": {},
   "source": [
    "# Price trajectories\n",
    "\n",
    "Considering a linear inverse demand function $p = a -by$, constant marginal costs $C$, discount rate $r$, and initial stock $x_0$. Notice that $a$ is the choke price. \n",
    "\n",
    "The Hotelling rule determines the rate of change of price. The Tranversality condition determines the level of price at $T$, the time when extraction ends. "
   ]
  },
  {
   "cell_type": "markdown",
   "metadata": {},
   "source": [
    "## Parameters"
   ]
  },
  {
   "cell_type": "code",
   "execution_count": 95,
   "metadata": {},
   "outputs": [],
   "source": [
    "a = 20 # choke price\n",
    "b = -4 # \n",
    "r = 0.1 # discount rate \n",
    "C = 5 # constant narginal costs\n",
    "\n",
    "p_0 = 12 # initial price 1\n",
    "p_0_2 = 7 # initial price 2"
   ]
  },
  {
   "cell_type": "markdown",
   "metadata": {},
   "source": [
    "## Figure 5.3 \n",
    "\n",
    "Here we replicate Figure 5.3 in your book. You can see two different price trajectories, corresponding to different intial prices that satisfy the Euler equation. A higher initial price price, $p_0$, causes the price trajectory to reach the choke price, $a$, earlier. What happend if you change the choke price? the interest rate? the marginal costs? You can change the parameters above and see what happends.   "
   ]
  },
  {
   "cell_type": "code",
   "execution_count": 96,
   "metadata": {},
   "outputs": [
    {
     "data": {
      "image/png": "[encoded data removed]",
      "text/plain": [
       "<Figure size 432x288 with 1 Axes>"
      ]
     },
     "metadata": {
      "needs_background": "light"
     },
     "output_type": "display_data"
    }
   ],
   "source": [
    "t = np.linspace(0, 22, 100)\n",
    "p = exp(r*t)*(p_0-C)+C\n",
    "p[p > a] = a   \n",
    "\n",
    "p_2 = exp(r*t)*(p_0_2-C)+C\n",
    "p_2[p_2 > a] = a   \n",
    "\n",
    "a_plot = np.linspace(a, a, 100)\n",
    "plt.plot(t, p, 'b', label='p_0 = %s\\n'%(p_0))  \n",
    "plt.plot(t, p_2, 'g', label='p_0 = %s\\n'%(p_0_2))  \n",
    "plt.plot(t, a_plot) \n",
    "plt.xlabel('t')\n",
    "plt.ylabel('$p_t$')\n",
    "plt.legend()\n",
    "plt.show()"
   ]
  }
 ],
 "metadata": {
  "kernelspec": {
   "display_name": "Python 3",
   "language": "python",
   "name": "python3"
  },
  "language_info": {
   "codemirror_mode": {
    "name": "ipython",
    "version": 3
   },
   "file_extension": ".py",
   "mimetype": "text/x-python",
   "name": "python",
   "nbconvert_exporter": "python",
   "pygments_lexer": "ipython3",
   "version": "3.7.3"
  }
 },
 "nbformat": 4,
 "nbformat_minor": 2
}
