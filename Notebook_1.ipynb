{
 "cells": [
  {
   "cell_type": "markdown",
   "metadata": {},
   "source": [
    "# Section 1\n",
    "\n",
    "This webpage is called a Jupyter notebook. A notebook is a place to write programs and view their results, and also to write text. Our goal is to replicate some Figures of your book. Then, you will be able to change some parameters. The idea is to see how changing the parameters move the curves and change the equilibrium (comparative statics).\n",
    "\n",
    "We don't expect that you learn coding. That is not the goal of this course. The notebooks should help you to understand the concepts and exercises reviewed in lecture. However, this is also a good opportunity to learn how to navigate Jupyter notebooks and some basic expressions in Python(the computer language of the notebooks). If you are interested, you can find more information about Jupyter notebooks in the link below:\n",
    "\n",
    "http://datahub.berkeley.edu/hub/user-redirect/git-sync?repo=https://github.com/data-8/materials-fa19&subPath=materials/fa19/lab/lab01/lab01.ipynb"
   ]
  },
  {
   "cell_type": "code",
   "execution_count": 20,
   "metadata": {},
   "outputs": [],
   "source": [
    "import collections\n",
    "from pylab import *\n",
    "import matplotlib\n",
    "import matplotlib.pyplot as plt\n",
    "import numpy as np\n",
    "from scipy import misc"
   ]
  },
  {
   "cell_type": "markdown",
   "metadata": {},
   "source": [
    "## Derivatives and Graphs\n",
    "\n",
    "This notebook replicates Figure A.1 in the Appendix A of your book. Our goal is to help you to understand the Figure.\n",
    "Also, you will be able to play with the parameters. Consider the function $f(x)= 2 + 3x - 4x^2 - 5x^3$"
   ]
  },
  {
   "cell_type": "markdown",
   "metadata": {},
   "source": [
    "### Parameters\n",
    "\n",
    "Considering the general function $f(x) = a + bx + cx^2 + dx^3$, we set our parameters"
   ]
  },
  {
   "cell_type": "code",
   "execution_count": 21,
   "metadata": {},
   "outputs": [],
   "source": [
    "a = 2\n",
    "b = 3\n",
    "c = 0\n",
    "d = 0"
   ]
  },
  {
   "cell_type": "markdown",
   "metadata": {},
   "source": [
    "You can change these parameters! \n",
    "\n",
    "- First, click on that cell to activate it. It'll be highlighted with a little green or blue rectangle. \n",
    "- Second, change the numbers. For example set c = 0 and d=0. Now you have a linear function $f(x)= 2 + 3x$. \n",
    "- Finally, click Cell > Run All in the toolbar. The Figure below should change. Now f(x) is linear, g(x) is a constant and h(x) is 0. "
   ]
  },
  {
   "cell_type": "markdown",
   "metadata": {},
   "source": [
    "### Figure (Don't change the code below!)\n",
    "\n",
    "In the Figure, the red curve shows the graph of $f(x)$, the blue curve shows the graph of $g(x)=\\frac{df}{dx}$, and the green curve shows the graph of $h(x)=\\frac{d^2f}{dx^2}$"
   ]
  },
  {
   "cell_type": "code",
   "execution_count": 22,
   "metadata": {},
   "outputs": [
    {
     "data": {
      "image/png": "[encoded data removed]",
      "text/plain": [
       "<Figure size 432x288 with 1 Axes>"
      ]
     },
     "metadata": {
      "needs_background": "light"
     },
     "output_type": "display_data"
    }
   ],
   "source": [
    "x = np.linspace(-1.5, 1, 25) \n",
    "\n",
    "f = a + b*x + c*x*x + d*x*x*x \n",
    "\n",
    "g = b + 2*c*x + 3*d*x*x\n",
    "\n",
    "h = 2*c + 2*3*d*x\n",
    "\n",
    "\n",
    "fig = plt.figure()\n",
    "ax = plt.subplot(111)\n",
    "ax.plot(x, f,'r', label='f(x)')\n",
    "ax.plot(x, g,'b', label='g(x)')\n",
    "ax.plot(x, h,'g',label='h(x)')\n",
    "plt.title('Figure A.1: Derivatives and Graphs')\n",
    "ax.legend()\n",
    "\n",
    "ax.spines['left'].set_position('zero')\n",
    "ax.spines['right'].set_color('none')\n",
    "ax.spines['bottom'].set_position('zero')\n",
    "ax.spines['top'].set_color('none')\n",
    "ax.set_ylim([-20,15])\n",
    "\n",
    "plt.show()\n",
    " "
   ]
  }
 ],
 "metadata": {
  "kernelspec": {
   "display_name": "Python 3",
   "language": "python",
   "name": "python3"
  },
  "language_info": {
   "codemirror_mode": {
    "name": "ipython",
    "version": 3
   },
   "file_extension": ".py",
   "mimetype": "text/x-python",
   "name": "python",
   "nbconvert_exporter": "python",
   "pygments_lexer": "ipython3",
   "version": "3.7.3"
  }
 },
 "nbformat": 4,
 "nbformat_minor": 2
}
