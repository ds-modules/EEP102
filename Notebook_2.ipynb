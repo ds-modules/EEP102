{
 "cells": [
  {
   "cell_type": "markdown",
   "metadata": {},
   "source": [
    "# Section 2"
   ]
  },
  {
   "cell_type": "markdown",
   "metadata": {},
   "source": [
    "This notebook replicates Figure 2.1 in your textbook. The goal is to understand the Figure and the parameters. Then, you can play with them and analyze what happends with the equilibrium when you move them.   "
   ]
  },
  {
   "cell_type": "code",
   "execution_count": 141,
   "metadata": {},
   "outputs": [],
   "source": [
    "import collections\n",
    "from pylab import *\n",
    "import matplotlib\n",
    "import matplotlib.pyplot as plt\n",
    "import numpy as np\n",
    "import sympy as sy"
   ]
  },
  {
   "cell_type": "markdown",
   "metadata": {},
   "source": [
    "## Description:"
   ]
  },
  {
   "cell_type": "markdown",
   "metadata": {},
   "source": [
    "$p_{Ch}$ and $q_{Ch}$ are the price and quantity of tea consumed in China, respectively. The inverse demand function for tea in China is"
   ]
  },
  {
   "cell_type": "markdown",
   "metadata": {},
   "source": [
    "$p_{Ch} = 20 - q_{Ch}$, where 20 is the choke price for China"
   ]
  },
  {
   "cell_type": "markdown",
   "metadata": {},
   "source": [
    "$p_{US}$ and $q_{US}$ are the price and quantity of tea consumed in the U.S., respectively. The total quantity of tea, $q_T$, is 10. Then, the quantity in the U.S., $q_{US}$, is total quantity minus the quantity in China, $q_{Ch}$. \n",
    "\n",
    "$q_{US} = 10 - q_{Ch}$\n",
    "\n",
    "The inverse demand function for tea in the U.S. is"
   ]
  },
  {
   "cell_type": "markdown",
   "metadata": {},
   "source": [
    "$p_{US} = 18 - q_{US} = 18 - (10 - q_{Ch})$, where 18 is the choke price for the U.S."
   ]
  },
  {
   "cell_type": "markdown",
   "metadata": {},
   "source": [
    "## Parameters: \n",
    "\n",
    "You can change the parameters below to analize what happens with the equilibrium."
   ]
  },
  {
   "cell_type": "code",
   "execution_count": 142,
   "metadata": {},
   "outputs": [],
   "source": [
    "aCh = 20 # choke price for China\n",
    "aUS = 18 # choke price for the U.S.\n",
    "qT = 10 # total quantity "
   ]
  },
  {
   "cell_type": "markdown",
   "metadata": {},
   "source": [
    "## Equilibrium:\n",
    "\n",
    "First, we calculate the price and equilibrium quantities. Don't change this!"
   ]
  },
  {
   "cell_type": "code",
   "execution_count": 143,
   "metadata": {},
   "outputs": [],
   "source": [
    "# Equilibrium\n",
    "EqCh = (qT + aCh - aUS)/2 # quantity in China\n",
    "EqUS = qT - EqCh # quantity in the U.S.\n",
    "Ep = aCh - EqCh # price"
   ]
  },
  {
   "cell_type": "code",
   "execution_count": 144,
   "metadata": {},
   "outputs": [
    {
     "name": "stdout",
     "output_type": "stream",
     "text": [
      "The equilibrium price is 14.0 ,the equilibrium quantity in China is 6.0  and the equilibrium quantity in the U.S. is 4.0\n"
     ]
    }
   ],
   "source": [
    "print(\"The equilibrium price is\", Ep, \n",
    "      \",the equilibrium quantity in China is\", EqCh,\n",
    "      \" and the equilibrium quantity in the U.S. is\", EqUS,\n",
    "      sep=\" \")"
   ]
  },
  {
   "cell_type": "markdown",
   "metadata": {},
   "source": [
    "## Figure 2.1\n",
    "\n",
    "The code below replicates Figure 2.1 in your texbook. Don't change it!  "
   ]
  },
  {
   "cell_type": "code",
   "execution_count": 145,
   "metadata": {},
   "outputs": [
    {
     "data": {
      "image/png": "[encoded data removed]",
      "text/plain": [
       "<Figure size 432x288 with 2 Axes>"
      ]
     },
     "metadata": {
      "needs_background": "light"
     },
     "output_type": "display_data"
    }
   ],
   "source": [
    "qCh = np.linspace(0, qT, 10) # quantity in China\n",
    "pCh = aCh - qCh # price in China\n",
    "qUS = np.linspace(0, qT, 10)  # quantity in the U.S.\n",
    "pUS = aUS - (qT - qCh) # price in the U.S.\n",
    "\n",
    "E1 = Ep + 9\n",
    "\n",
    "fig, ax1 = plt.subplots()\n",
    "ax2 = ax1.twinx()\n",
    "ax1.plot(qCh, pCh, 'g-')\n",
    "ax2.plot(qUS, pUS, 'b-')\n",
    "ax1.plot(EqCh, Ep, 'o', markersize = 10)\n",
    "\n",
    "ax1.set_xlabel('tea')\n",
    "ax1.set_ylabel('price')\n",
    "ax2.set_ylabel('price')\n",
    "\n",
    "ax1.set_ylim([0,25])\n",
    "ax2.set_ylim([0,25])\n",
    "\n",
    "\n",
    "title('Arbitrage')\n",
    "show()\n"
   ]
  }
 ],
 "metadata": {
  "kernelspec": {
   "display_name": "Python 3",
   "language": "python",
   "name": "python3"
  },
  "language_info": {
   "codemirror_mode": {
    "name": "ipython",
    "version": 3
   },
   "file_extension": ".py",
   "mimetype": "text/x-python",
   "name": "python",
   "nbconvert_exporter": "python",
   "pygments_lexer": "ipython3",
   "version": "3.7.3"
  }
 },
 "nbformat": 4,
 "nbformat_minor": 2
}
