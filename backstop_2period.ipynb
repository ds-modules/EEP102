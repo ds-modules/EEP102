{
 "cells": [
  {
   "cell_type": "markdown",
   "metadata": {},
   "source": [
    "# The Backstop Model: Two-period problem\n",
    "\n",
    "This notebook replicates Figure 7.3 in your book. "
   ]
  },
  {
   "cell_type": "code",
   "execution_count": 10,
   "metadata": {},
   "outputs": [],
   "source": [
    "import collections\n",
    "from pylab import *\n",
    "import matplotlib\n",
    "import matplotlib.pyplot as plt\n",
    "import numpy as np"
   ]
  },
  {
   "cell_type": "markdown",
   "metadata": {},
   "source": [
    "## Description\n",
    "\n",
    "\n",
    "Suppose that there are two sources of energy supply: fossil fuels ($y$) and solar power ($z$). By assumption, the two types of energy are perfects substitutes, so they recieve the same price. The inverse demand function is $p = a - w$,where $w$ is total energy supply ($w = y + z$).  The solar power marginal cost is = supply function is $b$. First, we obtain the residual demand (see notebook residual_demand).\n",
    "\n",
    "Then, we study the competitive equilibrium for the two-period nonrenewable resource model. We focus in the simplest case where the initial stock is small enough that firms wants to exhaust the resource during this time. \n",
    "\n",
    "The first period is denoted $t=0$ and the second period by $t=1$. A price taking firm has a discount factor $\\rho$ , faces prices $p_0$ and $p_1$ in period 0 and 1, incurs extraction cost $C$ for each unit extracted, and has a fix stock of the resource, $x$ units. The no-intertemporal arbitrag condition states that the firm cannot increase its profits by moving sales from one period to another. \n",
    "\n",
    "$$ (p_0 - C) = \\rho (p_1 - C) $$\n",
    "\n",
    "$$ min[b, a - y] - C = \\rho (min[b, a - (x-y)] - C) $$\n"
   ]
  },
  {
   "cell_type": "markdown",
   "metadata": {},
   "source": [
    "## Parameters "
   ]
  },
  {
   "cell_type": "code",
   "execution_count": 11,
   "metadata": {},
   "outputs": [],
   "source": [
    "a = 20 # choke price\n",
    "x = 10 # total quantity\n",
    "b = 15 # solar power marginal cost \n",
    "C = 5 # fossil fuel marginal cost\n",
    "rho = 0.8 # discount factor"
   ]
  },
  {
   "cell_type": "markdown",
   "metadata": {},
   "source": [
    "## Figure\n",
    "\n",
    "The code below replicates Figure 7.2 in your texbook. Don't change it!"
   ]
  },
  {
   "cell_type": "code",
   "execution_count": 12,
   "metadata": {},
   "outputs": [
    {
     "data": {
      "image/png": "[encoded data removed]",
      "text/plain": [
       "<Figure size 432x288 with 2 Axes>"
      ]
     },
     "metadata": {
      "needs_background": "light"
     },
     "output_type": "display_data"
    }
   ],
   "source": [
    "y = np.linspace(0, x, 100)\n",
    "R0 = a - y - C\n",
    "RD0 = np.minimum(R0, (b-C))\n",
    "\n",
    "y1 = np.linspace(0, x, 100)\n",
    "rhoR1 = rho*(a -(x-y)- C)\n",
    "rhoRD1 = np.minimum(rhoR1, (rho*b - C))\n",
    "\n",
    "fig, ax1 = plt.subplots()\n",
    "ax2 = ax1.twinx()\n",
    "ax1.plot(y, RD0, 'g-')\n",
    "ax1.plot(y, R0, 'g-',linestyle='dashed')\n",
    "ax2.plot(y1, rhoRD1, 'b-')\n",
    "ax2.plot(y1, rhoR1, 'b-',linestyle='dashed')\n",
    "\n",
    "ax1.set_xlabel('Extraction (y)')\n",
    "ax1.set_ylabel('$')\n",
    "ax2.set_ylabel('$')\n",
    "\n",
    "ax1.set_ylim([0,a])\n",
    "ax2.set_ylim([0,a])\n",
    "\n",
    "title('Equilibrium extraction with backstop')\n",
    "show()"
   ]
  },
  {
   "cell_type": "markdown",
   "metadata": {},
   "source": [
    "The solid green curve shows residual demand - C. The solid blue curve shows the discounted residual demand - C. The dashed green curve shows price - C."
   ]
  }
 ],
 "metadata": {
  "kernelspec": {
   "display_name": "Python 3",
   "language": "python",
   "name": "python3"
  },
  "language_info": {
   "codemirror_mode": {
    "name": "ipython",
    "version": 3
   },
   "file_extension": ".py",
   "mimetype": "text/x-python",
   "name": "python",
   "nbconvert_exporter": "python",
   "pygments_lexer": "ipython3",
   "version": "3.7.3"
  }
 },
 "nbformat": 4,
 "nbformat_minor": 2
}
