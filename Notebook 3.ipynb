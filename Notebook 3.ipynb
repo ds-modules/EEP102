{
 "cells": [
  {
   "cell_type": "markdown",
   "metadata": {},
   "source": [
    "# Section 3\n",
    "\n",
    "This notebook replicates Figure 3.1 and Figure 3.2 in your book. "
   ]
  },
  {
   "cell_type": "code",
   "execution_count": 1,
   "metadata": {},
   "outputs": [],
   "source": [
    "import collections\n",
    "from pylab import *\n",
    "import matplotlib\n",
    "import matplotlib.pyplot as plt\n",
    "import numpy as np"
   ]
  },
  {
   "cell_type": "markdown",
   "metadata": {},
   "source": [
    "## Description\n",
    "\n",
    "Here we study the competitive equilibrium for the two-period nonrenewable resource model. We focus in the simplest case where the initial stock is small enough that firms wants to exhaust the resource during this time. \n",
    "\n",
    "The first period is denoted $t=0$ and the second period by $t=1$. A price taking firm has a discount factor $\\rho$ , faces prices $p_0$ and $p_1$ in period 0 and 1, incurs extraction cost $c$ for each unit extracted, and has a fix stock of the resource, $x$ units. The inverse demand function is $p = a - y$. The no-intertemporal arbitrag condition states that the firm cannot increase its profits by moving sales from one period to another. \n",
    "\n",
    "$$ (p_0 - c) = \\rho (p_1 - c)\n"
   ]
  },
  {
   "cell_type": "markdown",
   "metadata": {},
   "source": [
    "## Parameters "
   ]
  },
  {
   "cell_type": "code",
   "execution_count": 2,
   "metadata": {},
   "outputs": [],
   "source": [
    "a = 20 # choke price\n",
    "x = 10 # total quantity\n",
    "c = 1 # constant marginal costs \n",
    "rho = 0.8 # discount factor"
   ]
  },
  {
   "cell_type": "markdown",
   "metadata": {},
   "source": [
    "## Equlibrium"
   ]
  },
  {
   "cell_type": "code",
   "execution_count": 3,
   "metadata": {},
   "outputs": [
    {
     "name": "stdout",
     "output_type": "stream",
     "text": [
      "The equilibrium price in period 0 is 13.44 .The equilibrium quantity in period 0 is 6.56 .The equilibrium price in period 1 is 16.56 .The equilibrium quantity in period 1 is 3.44\n"
     ]
    }
   ],
   "source": [
    "#Equilibrium\n",
    "\n",
    "Ey0 = ((a - c)*(1 - rho)+(rho*x))/(1 + rho)\n",
    "Ep0 = a - Ey0\n",
    "Ey1 = x - Ey0\n",
    "Ep1 = a - Ey1\n",
    "\n",
    "print(\"The equilibrium price in period 0 is\", \"{:.2f}\".format(Ep0),\n",
    "      \".The equilibrium quantity in period 0 is\", \"{:.2f}\".format(Ey0),\n",
    "      \".The equilibrium price in period 1 is\", \"{:.2f}\".format(Ep1),\n",
    "      \".The equilibrium quantity in period 1 is\", \"{:.2f}\".format(Ey1),\n",
    "      sep=\" \")"
   ]
  },
  {
   "cell_type": "markdown",
   "metadata": {},
   "source": [
    "## Figure\n",
    "\n",
    "The code below replicates Figure 3.1 and Figure 3.2 in your texbook. Don't change it!"
   ]
  },
  {
   "cell_type": "code",
   "execution_count": 4,
   "metadata": {},
   "outputs": [
    {
     "data": {
      "image/png": "[encoded data removed]",
      "text/plain": [
       "<Figure size 432x288 with 2 Axes>"
      ]
     },
     "metadata": {
      "needs_background": "light"
     },
     "output_type": "display_data"
    }
   ],
   "source": [
    "y0 = np.linspace(0, 10, 2)\n",
    "R0 = a - y0 -c\n",
    "y1 = np.linspace(0, 10, 2)\n",
    "rhoR1 = rho*(a -(x-y0)-c)\n",
    "R1 = (a -(x-y0)-c)\n",
    "\n",
    "fig, ax1 = plt.subplots()\n",
    "ax2 = ax1.twinx()\n",
    "ax1.plot(y0, R0, 'g-')\n",
    "ax2.plot(y1, rhoR1, 'b-')\n",
    "ax2.plot(y1, R1, 'b-',linestyle='dashed')\n",
    "\n",
    "ax1.set_xlabel('Extraction (y0)')\n",
    "ax1.set_ylabel('$')\n",
    "ax2.set_ylabel('$')\n",
    "\n",
    "ax1.set_ylim([0,25])\n",
    "ax2.set_ylim([0,25])\n",
    "\n",
    "title('Equilibrium extraction with discounting')\n",
    "show()"
   ]
  },
  {
   "cell_type": "markdown",
   "metadata": {},
   "source": [
    "The solid green curve shows the period 0 price minus cost. The solid blue curve shows the discounted period 1 price minus cost. The dashed blue curve shows period 1 price minus cost."
   ]
  }
 ],
 "metadata": {
  "kernelspec": {
   "display_name": "Python 3",
   "language": "python",
   "name": "python3"
  },
  "language_info": {
   "codemirror_mode": {
    "name": "ipython",
    "version": 3
   },
   "file_extension": ".py",
   "mimetype": "text/x-python",
   "name": "python",
   "nbconvert_exporter": "python",
   "pygments_lexer": "ipython3",
   "version": "3.7.3"
  }
 },
 "nbformat": 4,
 "nbformat_minor": 2
}
