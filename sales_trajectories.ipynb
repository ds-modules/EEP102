{
 "cells": [
  {
   "cell_type": "code",
   "execution_count": 85,
   "metadata": {},
   "outputs": [],
   "source": [
    "import collections\n",
    "from pylab import *\n",
    "import matplotlib\n",
    "import matplotlib.pyplot as plt\n",
    "import numpy as np\n",
    "\n",
    "from numpy import *\n",
    "import math\n",
    "import matplotlib.pyplot as plt"
   ]
  },
  {
   "cell_type": "markdown",
   "metadata": {},
   "source": [
    "# Price trajectories, sales trajectories and final period\n",
    "\n",
    "Considering a linear inverse demand function $p = a -by$, constant marginal costs $C$, discount rate $r$, and initial stock $x_0$. Notice that $a$ is the choke price. \n",
    "\n",
    "The Hotelling rule determines the rate of change of price. The Tranversality condition determines the level of price at $T$, the time when extraction ends. "
   ]
  },
  {
   "cell_type": "markdown",
   "metadata": {},
   "source": [
    "## Parameters"
   ]
  },
  {
   "cell_type": "code",
   "execution_count": 86,
   "metadata": {},
   "outputs": [],
   "source": [
    "a = 20 # choke price\n",
    "b = -4 # \n",
    "r = 0.1 # discount rate \n",
    "C = 5 # constant narginal costs\n",
    "p_0 = 12 # initial price "
   ]
  },
  {
   "cell_type": "markdown",
   "metadata": {},
   "source": [
    "## Figure 5.2 \n",
    "\n",
    "Here we replicate Figure 5.2 in your book. You can see a price trajectory and the corresponding sales trajectory. This sales trajectory implieas a total extraction $X_0$. What happend if you change the initial price? What happened with the final period if you change $p_0$? or the choke price?"
   ]
  },
  {
   "cell_type": "code",
   "execution_count": 87,
   "metadata": {},
   "outputs": [
    {
     "name": "stdout",
     "output_type": "stream",
     "text": [
      "30.85\n"
     ]
    },
    {
     "data": {
      "image/png": "[encoded data removed]",
      "text/plain": [
       "<Figure size 432x288 with 1 Axes>"
      ]
     },
     "metadata": {
      "needs_background": "light"
     },
     "output_type": "display_data"
    }
   ],
   "source": [
    "t = np.linspace(0, 14, 100)\n",
    "p = exp(r*t)*(p_0-C)+C\n",
    "p[p > a] = a  \n",
    "y = -(a - p)/b \n",
    "T = (1/r)*(np.log((a-C)/(p_0-C)))\n",
    "\n",
    "import scipy.integrate as integrate\n",
    "import scipy.special as special\n",
    "totalX = integrate.quad(lambda p: (-a + p)/b , 0, T)\n",
    "\n",
    "print(\"{:.2f}\".format(totalX[0]))\n",
    "\n",
    "a_plot = np.linspace(a, a, 100)\n",
    "plt.plot(t, p, 'b', label='p')  \n",
    "plt.plot(t, y, 'g', label='y')  \n",
    "\n",
    "plt.annotate('T = %s\\n'%\"{:.1f}\".format(T), \n",
    "            xy=(T, 1.3),\n",
    "            xytext=(T, 1))\n",
    "plt.annotate('X0 = %s\\n'%\"{:.1f}\".format(totalX[0]), \n",
    "            xy=(T, 1.3),\n",
    "            xytext=(T, 2))\n",
    "\n",
    "plt.plot(t, a_plot) \n",
    "plt.xlabel('t')\n",
    "plt.ylabel('$p,y$')\n",
    "plt.xlim(xmin=0)\n",
    "plt.ylim(ymin=0)\n",
    "plt.legend()\n",
    "plt.show()"
   ]
  }
 ],
 "metadata": {
  "kernelspec": {
   "display_name": "Python 3",
   "language": "python",
   "name": "python3"
  },
  "language_info": {
   "codemirror_mode": {
    "name": "ipython",
    "version": 3
   },
   "file_extension": ".py",
   "mimetype": "text/x-python",
   "name": "python",
   "nbconvert_exporter": "python",
   "pygments_lexer": "ipython3",
   "version": "3.7.3"
  }
 },
 "nbformat": 4,
 "nbformat_minor": 2
}
